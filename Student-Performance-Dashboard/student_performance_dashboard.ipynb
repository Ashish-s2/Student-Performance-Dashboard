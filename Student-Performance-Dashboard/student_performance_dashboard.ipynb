{
 "cells": [
  {
   "cell_type": "markdown",
   "id": "eb7895c3",
   "metadata": {},
   "source": [
    "# 📊 Student Performance Dashboard\n",
    "This Jupyter notebook analyzes student performance data to identify trends, departmental performance, subject-wise averages, and at-risk students."
   ]
  },
  {
   "cell_type": "code",
   "execution_count": null,
   "id": "6a8d7a91",
   "metadata": {},
   "outputs": [],
   "source": [
    "import pandas as pd\n",
    "import matplotlib.pyplot as plt\n",
    "import seaborn as sns\n",
    "\n",
    "# Load data\n",
    "df = pd.read_csv('student_performance.csv')\n",
    "df.head()"
   ]
  },
  {
   "cell_type": "markdown",
   "id": "4c7be6cb",
   "metadata": {},
   "source": [
    "## 📌 Summary Statistics"
   ]
  },
  {
   "cell_type": "code",
   "execution_count": null,
   "id": "f0260ffe",
   "metadata": {},
   "outputs": [],
   "source": [
    "df.describe()"
   ]
  },
  {
   "cell_type": "markdown",
   "id": "e1bce7d6",
   "metadata": {},
   "source": [
    "## 📈 Average Marks per Department"
   ]
  },
  {
   "cell_type": "code",
   "execution_count": null,
   "id": "9065966c",
   "metadata": {},
   "outputs": [],
   "source": [
    "avg_marks_dept = df.groupby('Department')['Marks'].mean().sort_values(ascending=False)\n",
    "avg_marks_dept.plot(kind='bar', color='skyblue', title='Average Marks by Department')\n",
    "plt.ylabel('Average Marks')\n",
    "plt.show()"
   ]
  },
  {
   "cell_type": "markdown",
   "id": "d3463d3f",
   "metadata": {},
   "source": [
    "## 📘 Subject-wise Average Marks"
   ]
  },
  {
   "cell_type": "code",
   "execution_count": null,
   "id": "4e4988c6",
   "metadata": {},
   "outputs": [],
   "source": [
    "avg_marks_subject = df.groupby('Subject')['Marks'].mean().sort_values(ascending=False)\n",
    "sns.barplot(x=avg_marks_subject.values, y=avg_marks_subject.index, palette='viridis')\n",
    "plt.title('Subject-wise Average Marks')\n",
    "plt.xlabel('Average Marks')\n",
    "plt.show()"
   ]
  },
  {
   "cell_type": "markdown",
   "id": "a4342b84",
   "metadata": {},
   "source": [
    "## 📉 Attendance vs Marks"
   ]
  },
  {
   "cell_type": "code",
   "execution_count": null,
   "id": "e82142c0",
   "metadata": {},
   "outputs": [],
   "source": [
    "sns.scatterplot(data=df, x='Attendance (%)', y='Marks', hue='Gender', style='Department')\n",
    "plt.title('Marks vs Attendance (%)')\n",
    "plt.show()"
   ]
  },
  {
   "cell_type": "markdown",
   "id": "ddc32ecf",
   "metadata": {},
   "source": [
    "## ⚠️ Identify At-Risk Students"
   ]
  },
  {
   "cell_type": "code",
   "execution_count": null,
   "id": "1b1ae6c4",
   "metadata": {},
   "outputs": [],
   "source": [
    "# Students with low marks or low attendance\n",
    "at_risk = df[(df['Marks'] < 50) | (df['Attendance (%)'] < 60)]\n",
    "at_risk.sort_values(by=['Marks', 'Attendance (%)']).head(10)"
   ]
  }
 ],
 "metadata": {},
 "nbformat": 4,
 "nbformat_minor": 5
}
